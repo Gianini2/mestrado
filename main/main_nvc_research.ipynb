{
 "cells": [
  {
   "cell_type": "code",
   "execution_count": 1,
   "metadata": {},
   "outputs": [],
   "source": [
    "# %pip install openai\n",
    "# %pip install openpyxl\n",
    "# %pip install python-dotenv\n",
    "\n",
    "from IPython.display import clear_output\n",
    "clear_output()"
   ]
  },
  {
   "cell_type": "code",
   "execution_count": 20,
   "metadata": {},
   "outputs": [],
   "source": [
    "import json\n",
    "import random\n",
    "import re\n",
    "import pandas as pd\n",
    "import numpy as np\n",
    "import pprint\n",
    "\n",
    "\n",
    "# from sklearn.datasets import fetch_20newsgroups\n",
    "\n",
    "# import nltk\n",
    "# from nltk.corpus import stopwords\n",
    "# nltk.download('punkt')\n",
    "# nltk.download('stopwords')"
   ]
  },
  {
   "cell_type": "code",
   "execution_count": 3,
   "metadata": {},
   "outputs": [],
   "source": [
    "Sample1 = \"\"\"\n",
    "For the PR I believe it's all good, the way to test it is on development mode in looker and make it work basically. The file is clean and all good for deployment.\n",
    "\n",
    "But in terms of norming and future cases, I'm strongly against keeping this workflow if the dashboard has the possibility of receiving updates. \n",
    "I believe the use of LookML Dashboard was used almost correctly in this case, \n",
    "but on the case where we need to apply changes in this dashboard or add dimensions/new tiles it's not maintainable to add these things via LookML Dashboards overall, \n",
    "based on Looker is also a tool built to actually use the User-Defined features on explores. \n",
    "I believe we should follow more on the line where Guilherme explained to us, \n",
    "use this process to deploy the dashboard once it's ready and explore the options about changing sources when it's in production (model/views names...). \n",
    "On the other hand, Indeed this open us for huge improvements and version control on our dashboards, \n",
    "I strongly recommend exploring the possibility to convert this code into a User-Defined dashboard and see how we could keep changing it when its necessary (e.g. a new requirement comes).\n",
    "\n",
    "(e.g. my opinion: We could talk more about this with the whole team and maybe leave this option open to whoever builds a dashboard if they want to have it as a LookML Dashboard if the dashboard requires it, \n",
    "like in this case, but evaluate why do we have to leave it like this; \n",
    "in this triage case we only did that and it cause us days of work just to have a dynamic hard coded date in the date selection because the business had hard times adapting with the Looker built-in options, \n",
    "we could have explored an option similar to what we do with the timeframes for example, and we never ended up discovering and exploring more LookML dashboards. \n",
    "It also worries me that this is a huge cannon to tackle minor requirements.)\n",
    "Based on this, I think a discussion about it would be the way to go, it's a feature that Looker has, as any other, \n",
    "but it's not that straight forward to use, it limits us in other ways but it brings us a lot of other good stuff and robust and powerful opportunities, \n",
    "one of it is to keep version control about changes in the dashboard over time, but we have to decide as a team either is it is required/nice to have/cool thing let's use only when we need or desire.\n",
    "\"\"\""
   ]
  },
  {
   "cell_type": "code",
   "execution_count": 4,
   "metadata": {},
   "outputs": [],
   "source": [
    "import os\n",
    "from dotenv import load_dotenv\n",
    "\n",
    "load_dotenv()\n",
    "\n",
    "OPENAI_PROJECT = os.getenv(\"OPENAI_PROJECT_ID\")\n",
    "OPENAI_APIKEY = os.getenv(\"OPENAI_APIKEY\")\n",
    "\n",
    "# print(OPENAI_PROJECT,OPENAI_APIKEY)\n",
    "\n",
    "## Authenticate with OpenAI via CURL\n",
    "# !curl https://api.openai.com/v1/models -H \"Authorization: Bearer $OPENAI_APIKEY\" -H \"OpenAI-Project: $OPENAI_PROJECT\""
   ]
  },
  {
   "cell_type": "code",
   "execution_count": 5,
   "metadata": {},
   "outputs": [
    {
     "name": "stdout",
     "output_type": "stream",
     "text": [
      "ChatCompletionMessage(content=\"The feedback you've provided is detailed and brings up several important considerations, but there is room for improvement to make it more actionable. To enhance this feedback, consider the following suggestions:\\n\\n1. **Clarify the Objective:** Begin by clearly stating the purpose of the feedback. For instance, are you trying to improve a workflow, ensure future scalability, or both?\\n\\n2. **Be Specific:** Provide specific examples or scenarios where the current approach could fail. This will help the recipient understand the context and importance.\\n\\n3. **Actionable Steps:** Break down your suggestions into clear, actionable steps. Instead of just recommending broader exploration or discussion, outline what specific actions or experiments should be conducted.\\n\\n4. **Focus on Positives and Negatives:** Balance the discussion by highlighting what has been done well and what specifically needs improvement, ensuring a constructive tone.\\n\\n5. **Encourage Engagement:** Invite feedback and collaborative problem-solving, specifying who should be involved in these discussions (e.g., particular team members or roles).\\n\\n6. **Prioritization:** Prioritize your concerns. Highlight which issues are most critical and why they should be addressed urgently.\\n\\n7. **Emphasize Benefits:** Clearly outline potential benefits of any suggested changes to motivate the team to explore them further.\\n\\n**Rating and Explanation:**\\n\\nOn a scale of 1 to 10, I would rate this feedback a 6. Here’s why:\\n\\n- **Clarity (Score: 6):** While the feedback contains a lot of valuable insights, it could be clearer. The various points presented aren't easily distinguishable, which might make it difficult for the recipient to follow and act upon.\\n\\n- **Actionability (Score: 5):** Although there are good points made about the limitations and possibilities of using LookML Dashboards, explicit actionable steps are somewhat lacking. It’s essential to translate insights and recommendations into specific actions.\\n\\n- **Positivity and Constructiveness (Score: 6):** The feedback captures both potential benefits and drawbacks, showing a balanced perspective. However, it could more clearly emphasize positive aspects or achievements before delving into needed improvements.\\n\\n- **Engagement and Collaboration (Score: 7):** The suggestion for team discussions and exploration is a strong point, as it encourages collaboration and joint decision-making.\\n\\nBy refining these areas, you could significantly improve the effectiveness of your feedback, making it clearer and more actionable for the team involved.\", refusal=None, role='assistant', function_call=None, tool_calls=None)\n"
     ]
    }
   ],
   "source": [
    "from openai import OpenAI\n",
    "\n",
    "client = OpenAI(\n",
    "    api_key=OPENAI_APIKEY,\n",
    "    project=OPENAI_PROJECT\n",
    ")\n",
    "\n",
    "completion = client.chat.completions.create(\n",
    "    model=\"gpt-4o\",\n",
    "    messages=[\n",
    "        {\"role\": \"system\", \"content\": \"You are a helpful technical assistant, \\\n",
    "                                       specialist in non violent communication and all communication matters, \\\n",
    "                                       with the most updated infomation about IT and data science.\"}, \n",
    "        {\"role\": \"user\", \"content\":   \"I'm an a NLP student and I need help with a feedback. \\\n",
    "                                       Tell me about what could be better on the following feedback to be more actionable, \\\n",
    "                                       and also in a scale of 1-10, how do rank this feedback (and explain based on what). Feedback:\"+Sample1},\n",
    "    ]\n",
    ")\n",
    "\n",
    "print(completion.choices[0].message)\n",
    "\n",
    "#write a file with the response:\n",
    "\n",
    "with open(\"resposta1.md\", \"w\") as f:\n",
    "    f.write(completion.choices[0].message.content)"
   ]
  },
  {
   "cell_type": "code",
   "execution_count": 13,
   "metadata": {},
   "outputs": [],
   "source": [
    "# Dataset with studentes \n",
    "Sample2 = pd.read_excel('..\\Datasets\\TeachSatisfaction.xlsx')"
   ]
  },
  {
   "cell_type": "code",
   "execution_count": 14,
   "metadata": {},
   "outputs": [
    {
     "data": {
      "text/html": [
       "<div>\n",
       "<style scoped>\n",
       "    .dataframe tbody tr th:only-of-type {\n",
       "        vertical-align: middle;\n",
       "    }\n",
       "\n",
       "    .dataframe tbody tr th {\n",
       "        vertical-align: top;\n",
       "    }\n",
       "\n",
       "    .dataframe thead th {\n",
       "        text-align: right;\n",
       "    }\n",
       "</style>\n",
       "<table border=\"1\" class=\"dataframe\">\n",
       "  <thead>\n",
       "    <tr style=\"text-align: right;\">\n",
       "      <th></th>\n",
       "      <th>user_post</th>\n",
       "      <th>caregiver_post</th>\n",
       "      <th>empathetic_segments</th>\n",
       "      <th>empathy_class</th>\n",
       "    </tr>\n",
       "  </thead>\n",
       "  <tbody>\n",
       "    <tr>\n",
       "      <th>0</th>\n",
       "      <td>I called in sick to work today. For the first ...</td>\n",
       "      <td>Is that really so bad? Maybe it was the smart ...</td>\n",
       "      <td>Hope you feel better soon|</td>\n",
       "      <td>1</td>\n",
       "    </tr>\n",
       "    <tr>\n",
       "      <th>1</th>\n",
       "      <td>i wanna jump from an elevated place. i wanna k...</td>\n",
       "      <td>I don't want you to jump. I don't want you to ...</td>\n",
       "      <td>I don't want you to jump. I don't want you to ...</td>\n",
       "      <td>1</td>\n",
       "    </tr>\n",
       "    <tr>\n",
       "      <th>2</th>\n",
       "      <td>All the people who will be kissed on New year'...</td>\n",
       "      <td>Hey, just wait it out. I know what you feel. S...</td>\n",
       "      <td>if you ever wanna talk about anything I'd be m...</td>\n",
       "      <td>1</td>\n",
       "    </tr>\n",
       "    <tr>\n",
       "      <th>3</th>\n",
       "      <td>The world is really pretty.. Pity, that I won'...</td>\n",
       "      <td>You're a good man, Median. I hope you know thi...</td>\n",
       "      <td>You're a good man|I'd rather you live, persona...</td>\n",
       "      <td>1</td>\n",
       "    </tr>\n",
       "    <tr>\n",
       "      <th>4</th>\n",
       "      <td>Don't know what this is.... Not sure if this i...</td>\n",
       "      <td>Thats totally normal, most people get that fro...</td>\n",
       "      <td>Thats totally normal, most people get that fro...</td>\n",
       "      <td>1</td>\n",
       "    </tr>\n",
       "  </tbody>\n",
       "</table>\n",
       "</div>"
      ],
      "text/plain": [
       "                                           user_post  \\\n",
       "0  I called in sick to work today. For the first ...   \n",
       "1  i wanna jump from an elevated place. i wanna k...   \n",
       "2  All the people who will be kissed on New year'...   \n",
       "3  The world is really pretty.. Pity, that I won'...   \n",
       "4  Don't know what this is.... Not sure if this i...   \n",
       "\n",
       "                                      caregiver_post  \\\n",
       "0  Is that really so bad? Maybe it was the smart ...   \n",
       "1  I don't want you to jump. I don't want you to ...   \n",
       "2  Hey, just wait it out. I know what you feel. S...   \n",
       "3  You're a good man, Median. I hope you know thi...   \n",
       "4  Thats totally normal, most people get that fro...   \n",
       "\n",
       "                                 empathetic_segments  empathy_class   \n",
       "0                         Hope you feel better soon|               1  \n",
       "1  I don't want you to jump. I don't want you to ...               1  \n",
       "2  if you ever wanna talk about anything I'd be m...               1  \n",
       "3  You're a good man|I'd rather you live, persona...               1  \n",
       "4  Thats totally normal, most people get that fro...               1  "
      ]
     },
     "execution_count": 14,
     "metadata": {},
     "output_type": "execute_result"
    }
   ],
   "source": [
    "Sample3_empathy = pd.read_csv('..\\Datasets\\empathy.csv')\n",
    "Sample3_empathy.head()"
   ]
  },
  {
   "cell_type": "code",
   "execution_count": 33,
   "metadata": {},
   "outputs": [
    {
     "name": "stdout",
     "output_type": "stream",
     "text": [
      "['### User Post: ',\n",
      " 'I called in sick to work today. For the first time in a couple months I was '\n",
      " 'feeling so Shitty I called into both my jobs today. Just feeling too burnt '\n",
      " 'out, but I slept a lot, read quite a bit and finally managed to shower so '\n",
      " 'the day a complete waste',\n",
      " '### Caregiver Post: ',\n",
      " 'Is that really so bad? Maybe it was the smart decision because you needed '\n",
      " \"that time to read recover. You're being kind to yourself when you need it \"\n",
      " \"and that's important. Hope you feel better soon.\",\n",
      " '### Empathetic Segments: ',\n",
      " 'Hope you feel better soon|',\n",
      " '### Empathy Class: ',\n",
      " 1]\n"
     ]
    }
   ],
   "source": [
    "Sample3_empathy.iloc[0]\n",
    "\n",
    "pprint.pprint(['### User Post: ', \n",
    "               Sample3_empathy.iloc[0][0],\n",
    "               '### Caregiver Post: ',\n",
    "               Sample3_empathy.iloc[0][1],\n",
    "               '### Empathetic Segments: ',\n",
    "               Sample3_empathy.iloc[0][2],\n",
    "               '### Empathy Class: ',\n",
    "               Sample3_empathy.iloc[0][3]])"
   ]
  },
  {
   "cell_type": "code",
   "execution_count": 51,
   "metadata": {},
   "outputs": [
    {
     "name": "stdout",
     "output_type": "stream",
     "text": [
      "['-',\n",
      " '### User Post: ',\n",
      " \"All the people who will be kissed on New year's eve. I'll be alone like \"\n",
      " \"usual I'll never get someone to kiss me It's fine No one understands how \"\n",
      " 'hopelessly, alone, and angrily some people live. It would scare some '\n",
      " \"attractive people that haven't ever lived like that.\",\n",
      " '-',\n",
      " '### Caregiver Post: ',\n",
      " \"Hey, just wait it out. I know what you feel. Sometimes I think I'm \"\n",
      " \"attractive, and sometimes I can't even look at myself I'm so disgusted. I've \"\n",
      " \"come to realize it's all just a fucked up mind game I play with myself. I \"\n",
      " \"doubt you're actually that ugly, you're probably kinda cute honestly, but if \"\n",
      " \"you're anything like me, you've tricked yourself into thinking you're ugly. \"\n",
      " 'If you want people to want to be around you, you have to do some basic '\n",
      " 'things like showering, putting on actual clothes, smiling, excercising a '\n",
      " \"little and pretending you have confidence. It's honestly dumb, but these \"\n",
      " 'things can be hard to do, especially if you struggle with low confidence and '\n",
      " \"depression. But if you take care of yourself, it's not too hard to find \"\n",
      " 'people. And just you wait until you find a person to kiss on New Years, '\n",
      " 'because the feeling is worth the wait. I know this is all a bit corny, but '\n",
      " \"if you ever wanna talk about anything I'd be more than happy to :)\",\n",
      " '-',\n",
      " '### Empathetic Segments: ',\n",
      " \"if you ever wanna talk about anything I'd be more than happy to|\",\n",
      " '-',\n",
      " '### Empathy Class: ',\n",
      " 1]\n"
     ]
    }
   ],
   "source": [
    "def print_empathy_sample(sample: pd.DataFrame, index: int):\n",
    "    return pprint.pprint(['-','### User Post: ', \n",
    "                        sample.iloc[index][0],\n",
    "                        '-','### Caregiver Post: ',\n",
    "                        sample.iloc[index][1],\n",
    "                        '-','### Empathetic Segments: ',\n",
    "                        sample.iloc[index][2],\n",
    "                        '-','### Empathy Class: ',\n",
    "                        sample.iloc[index][3]])\n",
    "    \n",
    "\n",
    "print_empathy_sample(Sample3_empathy,2)"
   ]
  },
  {
   "cell_type": "code",
   "execution_count": null,
   "metadata": {},
   "outputs": [],
   "source": []
  }
 ],
 "metadata": {
  "kernelspec": {
   "display_name": "Python 3",
   "language": "python",
   "name": "python3"
  },
  "language_info": {
   "codemirror_mode": {
    "name": "ipython",
    "version": 3
   },
   "file_extension": ".py",
   "mimetype": "text/x-python",
   "name": "python",
   "nbconvert_exporter": "python",
   "pygments_lexer": "ipython3",
   "version": "3.11.9"
  }
 },
 "nbformat": 4,
 "nbformat_minor": 2
}
